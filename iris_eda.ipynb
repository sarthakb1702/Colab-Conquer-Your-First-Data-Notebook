{
  "nbformat": 4,
  "nbformat_minor": 0,
  "metadata": {
    "colab": {
      "provenance": []
    },
    "kernelspec": {
      "name": "python3",
      "display_name": "Python 3"
    },
    "language_info": {
      "name": "python"
    }
  },
  "cells": [
    {
      "cell_type": "code",
      "execution_count": null,
      "metadata": {
        "id": "9gh0KGgBkMEu"
      },
      "outputs": [],
      "source": [
        "# Iris EDA using Pandas and Matplotlib\n",
        "\n",
        "import pandas as pd\n",
        "import matplotlib.pyplot as plt\n",
        "\n",
        "# Load the dataset\n",
        "url = \"https://bit.ly/4nejNue\"\n",
        "df = pd.read_csv(url)\n",
        "\n",
        "# Display first few rows\n",
        "print(\"First 5 rows of the dataset:\")\n",
        "print(df.head())\n",
        "\n",
        "# Show basic statistics\n",
        "print(\"\\nDataset statistics using .describe():\")\n",
        "print(df.describe())\n",
        "\n",
        "# Show mean, median, std separately\n",
        "print(\"\\nMean of each column:\")\n",
        "print(df.mean(numeric_only=True))\n",
        "\n",
        "print(\"\\nMedian of each column:\")\n",
        "print(df.median(numeric_only=True))\n",
        "\n",
        "print(\"\\nStandard Deviation of each column:\")\n",
        "print(df.std(numeric_only=True))\n",
        "\n",
        "# Visualize histograms for all numeric features\n",
        "df.hist(figsize=(10, 8), bins=15, edgecolor='black')\n",
        "plt.tight_layout()\n",
        "plt.show()\n"
      ]
    }
  ]
}